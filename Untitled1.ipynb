{
 "cells": [
  {
   "cell_type": "code",
   "execution_count": null,
   "id": "73513986-9530-4349-a180-02d52b86ed17",
   "metadata": {},
   "outputs": [],
   "source": []
  }
 ],
 "metadata": {
  "kernelspec": {
   "display_name": "",
   "name": ""
  },
  "language_info": {
   "name": ""
  }
 },
 "nbformat": 4,
 "nbformat_minor": 5
}
